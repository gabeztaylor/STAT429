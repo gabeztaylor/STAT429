{
 "cells": [
  {
   "cell_type": "code",
   "execution_count": 2,
   "metadata": {},
   "outputs": [],
   "source": [
    "import pandas as pd"
   ]
  },
  {
   "cell_type": "code",
   "execution_count": 3,
   "metadata": {},
   "outputs": [
    {
     "name": "stdout",
     "output_type": "stream",
     "text": [
      "<class 'pandas.core.frame.DataFrame'>\n",
      "RangeIndex: 12730 entries, 0 to 12729\n",
      "Data columns (total 5 columns):\n",
      " #   Column          Non-Null Count  Dtype \n",
      "---  ------          --------------  ----- \n",
      " 0   Text            12730 non-null  object\n",
      " 1   UserName        12730 non-null  object\n",
      " 2   LinkToTweet     12730 non-null  object\n",
      " 3   TweetEmbedCode  12730 non-null  object\n",
      " 4   CreatedAt       12730 non-null  object\n",
      "dtypes: object(5)\n",
      "memory usage: 497.4+ KB\n"
     ]
    }
   ],
   "source": [
    "df = pd.read_json('/Users/gabrieltaylor/Downloads/user-tweets.jsonl', lines = True)\n",
    "df.info()"
   ]
  },
  {
   "cell_type": "markdown",
   "metadata": {},
   "source": [
    "### Compute Sentiment"
   ]
  },
  {
   "cell_type": "code",
   "execution_count": 4,
   "metadata": {},
   "outputs": [
    {
     "name": "stderr",
     "output_type": "stream",
     "text": [
      "[nltk_data] Downloading package vader_lexicon to\n",
      "[nltk_data]     /Users/gabrieltaylor/nltk_data...\n",
      "[nltk_data]   Package vader_lexicon is already up-to-date!\n"
     ]
    }
   ],
   "source": [
    "import nltk\n",
    "nltk.download('vader_lexicon')\n",
    "from nltk.sentiment import SentimentIntensityAnalyzer\n",
    "import re"
   ]
  },
  {
   "cell_type": "code",
   "execution_count": 5,
   "metadata": {},
   "outputs": [],
   "source": [
    "df['Text'] = [re.sub(r\"(?:\\@|https?\\://)\\S+\", \"\", tweet) for tweet in df['Text']]"
   ]
  },
  {
   "cell_type": "code",
   "execution_count": 6,
   "metadata": {},
   "outputs": [
    {
     "data": {
      "text/plain": [
       "' I love the thought of a car drifting apparently endlessly through space and perhaps being discovered by an alien race millions of years in the future'"
      ]
     },
     "execution_count": 6,
     "metadata": {},
     "output_type": "execute_result"
    }
   ],
   "source": [
    "df['Text'][0]"
   ]
  },
  {
   "cell_type": "code",
   "execution_count": 7,
   "metadata": {},
   "outputs": [
    {
     "data": {
      "text/plain": [
       "{'neg': 0.0, 'neu': 0.846, 'pos': 0.154, 'compound': 0.6369}"
      ]
     },
     "execution_count": 7,
     "metadata": {},
     "output_type": "execute_result"
    }
   ],
   "source": [
    "sia = SentimentIntensityAnalyzer()\n",
    "sia.polarity_scores(df['Text'][0])"
   ]
  },
  {
   "cell_type": "code",
   "execution_count": 8,
   "metadata": {},
   "outputs": [],
   "source": [
    "df['Sentiment'] = [sia.polarity_scores(tweet)['compound'] for tweet in df['Text']]"
   ]
  },
  {
   "cell_type": "code",
   "execution_count": 9,
   "metadata": {},
   "outputs": [
    {
     "data": {
      "text/html": [
       "<div>\n",
       "<style scoped>\n",
       "    .dataframe tbody tr th:only-of-type {\n",
       "        vertical-align: middle;\n",
       "    }\n",
       "\n",
       "    .dataframe tbody tr th {\n",
       "        vertical-align: top;\n",
       "    }\n",
       "\n",
       "    .dataframe thead th {\n",
       "        text-align: right;\n",
       "    }\n",
       "</style>\n",
       "<table border=\"1\" class=\"dataframe\">\n",
       "  <thead>\n",
       "    <tr style=\"text-align: right;\">\n",
       "      <th></th>\n",
       "      <th>Text</th>\n",
       "      <th>UserName</th>\n",
       "      <th>LinkToTweet</th>\n",
       "      <th>TweetEmbedCode</th>\n",
       "      <th>CreatedAt</th>\n",
       "      <th>Sentiment</th>\n",
       "    </tr>\n",
       "  </thead>\n",
       "  <tbody>\n",
       "    <tr>\n",
       "      <th>0</th>\n",
       "      <td>I love the thought of a car drifting apparent...</td>\n",
       "      <td>elonmusk</td>\n",
       "      <td>http://twitter.com/elonmusk/status/93704198630...</td>\n",
       "      <td>&lt;blockquote class=\"twitter-tweet\"&gt;&lt;p lang=\"en\"...</td>\n",
       "      <td>December 02, 2017 at 07:33PM</td>\n",
       "      <td>0.6369</td>\n",
       "    </tr>\n",
       "    <tr>\n",
       "      <th>1</th>\n",
       "      <td>Asimov's Foundation books should def be part ...</td>\n",
       "      <td>elonmusk</td>\n",
       "      <td>http://twitter.com/elonmusk/status/93709071522...</td>\n",
       "      <td>&lt;blockquote class=\"twitter-tweet\"&gt;&lt;p lang=\"en\"...</td>\n",
       "      <td>December 02, 2017 at 10:46PM</td>\n",
       "      <td>0.5859</td>\n",
       "    </tr>\n",
       "    <tr>\n",
       "      <th>2</th>\n",
       "      <td>That's certainly the right way to go to store...</td>\n",
       "      <td>elonmusk</td>\n",
       "      <td>http://twitter.com/elonmusk/status/93710961569...</td>\n",
       "      <td>&lt;blockquote class=\"twitter-tweet\"&gt;&lt;p lang=\"en\"...</td>\n",
       "      <td>December 03, 2017 at 12:01AM</td>\n",
       "      <td>0.3400</td>\n",
       "    </tr>\n",
       "    <tr>\n",
       "      <th>3</th>\n",
       "      <td>To preserve the transcendent majesty &amp;amp; spe...</td>\n",
       "      <td>elonmusk</td>\n",
       "      <td>http://twitter.com/elonmusk/status/93739733099...</td>\n",
       "      <td>&lt;blockquote class=\"twitter-tweet\"&gt;&lt;p lang=\"en\"...</td>\n",
       "      <td>December 03, 2017 at 07:05PM</td>\n",
       "      <td>-0.3182</td>\n",
       "    </tr>\n",
       "    <tr>\n",
       "      <th>4</th>\n",
       "      <td>Busted</td>\n",
       "      <td>elonmusk</td>\n",
       "      <td>http://twitter.com/elonmusk/status/93739781363...</td>\n",
       "      <td>&lt;blockquote class=\"twitter-tweet\"&gt;&lt;p lang=\"en\"...</td>\n",
       "      <td>December 03, 2017 at 07:07PM</td>\n",
       "      <td>0.0000</td>\n",
       "    </tr>\n",
       "  </tbody>\n",
       "</table>\n",
       "</div>"
      ],
      "text/plain": [
       "                                                Text  UserName  \\\n",
       "0   I love the thought of a car drifting apparent...  elonmusk   \n",
       "1   Asimov's Foundation books should def be part ...  elonmusk   \n",
       "2   That's certainly the right way to go to store...  elonmusk   \n",
       "3  To preserve the transcendent majesty &amp; spe...  elonmusk   \n",
       "4                                             Busted  elonmusk   \n",
       "\n",
       "                                         LinkToTweet  \\\n",
       "0  http://twitter.com/elonmusk/status/93704198630...   \n",
       "1  http://twitter.com/elonmusk/status/93709071522...   \n",
       "2  http://twitter.com/elonmusk/status/93710961569...   \n",
       "3  http://twitter.com/elonmusk/status/93739733099...   \n",
       "4  http://twitter.com/elonmusk/status/93739781363...   \n",
       "\n",
       "                                      TweetEmbedCode  \\\n",
       "0  <blockquote class=\"twitter-tweet\"><p lang=\"en\"...   \n",
       "1  <blockquote class=\"twitter-tweet\"><p lang=\"en\"...   \n",
       "2  <blockquote class=\"twitter-tweet\"><p lang=\"en\"...   \n",
       "3  <blockquote class=\"twitter-tweet\"><p lang=\"en\"...   \n",
       "4  <blockquote class=\"twitter-tweet\"><p lang=\"en\"...   \n",
       "\n",
       "                      CreatedAt  Sentiment  \n",
       "0  December 02, 2017 at 07:33PM     0.6369  \n",
       "1  December 02, 2017 at 10:46PM     0.5859  \n",
       "2  December 03, 2017 at 12:01AM     0.3400  \n",
       "3  December 03, 2017 at 07:05PM    -0.3182  \n",
       "4  December 03, 2017 at 07:07PM     0.0000  "
      ]
     },
     "execution_count": 9,
     "metadata": {},
     "output_type": "execute_result"
    }
   ],
   "source": [
    "df.head()"
   ]
  },
  {
   "cell_type": "markdown",
   "metadata": {},
   "source": [
    "### Change Date"
   ]
  },
  {
   "cell_type": "code",
   "execution_count": 10,
   "metadata": {},
   "outputs": [],
   "source": [
    "from datetime import datetime "
   ]
  },
  {
   "cell_type": "code",
   "execution_count": 11,
   "metadata": {},
   "outputs": [
    {
     "data": {
      "text/plain": [
       "'December 02 2017  07:33PM'"
      ]
     },
     "execution_count": 11,
     "metadata": {},
     "output_type": "execute_result"
    }
   ],
   "source": [
    "df['CreatedAt'][0].replace(\",\", \"\").replace(\"at\", \"\")"
   ]
  },
  {
   "cell_type": "code",
   "execution_count": 12,
   "metadata": {},
   "outputs": [
    {
     "data": {
      "text/plain": [
       "datetime.date(2017, 12, 2)"
      ]
     },
     "execution_count": 12,
     "metadata": {},
     "output_type": "execute_result"
    }
   ],
   "source": [
    "datetime.strptime(df['CreatedAt'][0].replace(\",\", \"\").replace(\"at\", \"\"), '%B %d %Y %I:%M%p').date()"
   ]
  },
  {
   "cell_type": "code",
   "execution_count": 13,
   "metadata": {},
   "outputs": [],
   "source": [
    "df['CreatedAt'] = [datetime.strptime(date.replace(\",\", \"\").replace(\"at\", \"\"), '%B %d %Y %I:%M%p').date() for date in df['CreatedAt']]"
   ]
  },
  {
   "cell_type": "code",
   "execution_count": 14,
   "metadata": {},
   "outputs": [
    {
     "name": "stdout",
     "output_type": "stream",
     "text": [
      "<class 'pandas.core.frame.DataFrame'>\n",
      "RangeIndex: 12730 entries, 0 to 12729\n",
      "Data columns (total 6 columns):\n",
      " #   Column          Non-Null Count  Dtype  \n",
      "---  ------          --------------  -----  \n",
      " 0   Text            12730 non-null  object \n",
      " 1   UserName        12730 non-null  object \n",
      " 2   LinkToTweet     12730 non-null  object \n",
      " 3   TweetEmbedCode  12730 non-null  object \n",
      " 4   CreatedAt       12730 non-null  object \n",
      " 5   Sentiment       12730 non-null  float64\n",
      "dtypes: float64(1), object(5)\n",
      "memory usage: 596.8+ KB\n"
     ]
    }
   ],
   "source": [
    "df.info()"
   ]
  },
  {
   "cell_type": "markdown",
   "metadata": {},
   "source": [
    "### Aggregate Sentiment By Date"
   ]
  },
  {
   "cell_type": "code",
   "execution_count": 16,
   "metadata": {},
   "outputs": [],
   "source": [
    "sum_square = lambda x: sum(x ** 2)"
   ]
  },
  {
   "cell_type": "code",
   "execution_count": 17,
   "metadata": {},
   "outputs": [],
   "source": [
    "df_by_day = df.groupby('CreatedAt').agg({'Sentiment' : sum_square}).reset_index().rename({'CreatedAt' : 'Date'}, axis = 1)"
   ]
  },
  {
   "cell_type": "code",
   "execution_count": 18,
   "metadata": {},
   "outputs": [
    {
     "data": {
      "text/html": [
       "<div>\n",
       "<style scoped>\n",
       "    .dataframe tbody tr th:only-of-type {\n",
       "        vertical-align: middle;\n",
       "    }\n",
       "\n",
       "    .dataframe tbody tr th {\n",
       "        vertical-align: top;\n",
       "    }\n",
       "\n",
       "    .dataframe thead th {\n",
       "        text-align: right;\n",
       "    }\n",
       "</style>\n",
       "<table border=\"1\" class=\"dataframe\">\n",
       "  <thead>\n",
       "    <tr style=\"text-align: right;\">\n",
       "      <th></th>\n",
       "      <th>Date</th>\n",
       "      <th>Sentiment</th>\n",
       "    </tr>\n",
       "  </thead>\n",
       "  <tbody>\n",
       "    <tr>\n",
       "      <th>0</th>\n",
       "      <td>2017-12-02</td>\n",
       "      <td>0.748920</td>\n",
       "    </tr>\n",
       "    <tr>\n",
       "      <th>1</th>\n",
       "      <td>2017-12-03</td>\n",
       "      <td>1.090182</td>\n",
       "    </tr>\n",
       "    <tr>\n",
       "      <th>2</th>\n",
       "      <td>2017-12-07</td>\n",
       "      <td>0.000000</td>\n",
       "    </tr>\n",
       "    <tr>\n",
       "      <th>3</th>\n",
       "      <td>2017-12-08</td>\n",
       "      <td>0.323369</td>\n",
       "    </tr>\n",
       "    <tr>\n",
       "      <th>4</th>\n",
       "      <td>2017-12-11</td>\n",
       "      <td>1.341099</td>\n",
       "    </tr>\n",
       "    <tr>\n",
       "      <th>...</th>\n",
       "      <td>...</td>\n",
       "      <td>...</td>\n",
       "    </tr>\n",
       "    <tr>\n",
       "      <th>1341</th>\n",
       "      <td>2021-11-30</td>\n",
       "      <td>2.011338</td>\n",
       "    </tr>\n",
       "    <tr>\n",
       "      <th>1342</th>\n",
       "      <td>2021-12-01</td>\n",
       "      <td>1.539978</td>\n",
       "    </tr>\n",
       "    <tr>\n",
       "      <th>1343</th>\n",
       "      <td>2021-12-02</td>\n",
       "      <td>0.462352</td>\n",
       "    </tr>\n",
       "    <tr>\n",
       "      <th>1344</th>\n",
       "      <td>2021-12-03</td>\n",
       "      <td>3.524062</td>\n",
       "    </tr>\n",
       "    <tr>\n",
       "      <th>1345</th>\n",
       "      <td>2021-12-04</td>\n",
       "      <td>0.540372</td>\n",
       "    </tr>\n",
       "  </tbody>\n",
       "</table>\n",
       "<p>1346 rows × 2 columns</p>\n",
       "</div>"
      ],
      "text/plain": [
       "            Date  Sentiment\n",
       "0     2017-12-02   0.748920\n",
       "1     2017-12-03   1.090182\n",
       "2     2017-12-07   0.000000\n",
       "3     2017-12-08   0.323369\n",
       "4     2017-12-11   1.341099\n",
       "...          ...        ...\n",
       "1341  2021-11-30   2.011338\n",
       "1342  2021-12-01   1.539978\n",
       "1343  2021-12-02   0.462352\n",
       "1344  2021-12-03   3.524062\n",
       "1345  2021-12-04   0.540372\n",
       "\n",
       "[1346 rows x 2 columns]"
      ]
     },
     "execution_count": 18,
     "metadata": {},
     "output_type": "execute_result"
    }
   ],
   "source": [
    "df_by_day"
   ]
  },
  {
   "cell_type": "markdown",
   "metadata": {},
   "source": [
    "### Stock Prices"
   ]
  },
  {
   "cell_type": "code",
   "execution_count": 19,
   "metadata": {},
   "outputs": [
    {
     "name": "stdout",
     "output_type": "stream",
     "text": [
      "<class 'pandas.core.frame.DataFrame'>\n",
      "RangeIndex: 1008 entries, 0 to 1007\n",
      "Data columns (total 7 columns):\n",
      " #   Column     Non-Null Count  Dtype  \n",
      "---  ------     --------------  -----  \n",
      " 0   Date       1008 non-null   object \n",
      " 1   Open       1008 non-null   float64\n",
      " 2   High       1008 non-null   float64\n",
      " 3   Low        1008 non-null   float64\n",
      " 4   Close      1008 non-null   float64\n",
      " 5   Adj Close  1008 non-null   float64\n",
      " 6   Volume     1008 non-null   int64  \n",
      "dtypes: float64(5), int64(1), object(1)\n",
      "memory usage: 55.2+ KB\n"
     ]
    }
   ],
   "source": [
    "prices = pd.read_csv(\"/Users/gabrieltaylor/Downloads/TSLA.csv\")\n",
    "prices.info()"
   ]
  },
  {
   "cell_type": "code",
   "execution_count": 93,
   "metadata": {},
   "outputs": [
    {
     "data": {
      "text/plain": [
       "'2017-12-04'"
      ]
     },
     "execution_count": 93,
     "metadata": {},
     "output_type": "execute_result"
    }
   ],
   "source": [
    "prices['Date'][0]"
   ]
  },
  {
   "cell_type": "code",
   "execution_count": 20,
   "metadata": {},
   "outputs": [
    {
     "data": {
      "text/plain": [
       "datetime.date(2017, 12, 4)"
      ]
     },
     "execution_count": 20,
     "metadata": {},
     "output_type": "execute_result"
    }
   ],
   "source": [
    "datetime.strptime(prices['Date'][0], '%Y-%m-%d').date()"
   ]
  },
  {
   "cell_type": "code",
   "execution_count": 21,
   "metadata": {},
   "outputs": [],
   "source": [
    "prices['Date'] = [datetime.strptime(date, '%Y-%m-%d').date() for date in prices['Date']]"
   ]
  },
  {
   "cell_type": "code",
   "execution_count": 22,
   "metadata": {},
   "outputs": [],
   "source": [
    "final_df = pd.merge(prices, df_by_day, how = 'inner', on = 'Date')"
   ]
  },
  {
   "cell_type": "code",
   "execution_count": 23,
   "metadata": {},
   "outputs": [],
   "source": [
    "final_df.to_csv('/Users/gabrieltaylor/Python/STAT429/Elon.csv')"
   ]
  }
 ],
 "metadata": {
  "kernelspec": {
   "display_name": "Python 3",
   "language": "python",
   "name": "python3"
  },
  "language_info": {
   "codemirror_mode": {
    "name": "ipython",
    "version": 3
   },
   "file_extension": ".py",
   "mimetype": "text/x-python",
   "name": "python",
   "nbconvert_exporter": "python",
   "pygments_lexer": "ipython3",
   "version": "3.7.6"
  }
 },
 "nbformat": 4,
 "nbformat_minor": 4
}
