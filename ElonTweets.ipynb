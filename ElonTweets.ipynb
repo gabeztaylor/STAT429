{
 "cells": [
  {
   "cell_type": "code",
   "execution_count": 1,
   "metadata": {},
   "outputs": [],
   "source": [
    "import pandas as pd"
   ]
  },
  {
   "cell_type": "code",
   "execution_count": 57,
   "metadata": {},
   "outputs": [
    {
     "name": "stdout",
     "output_type": "stream",
     "text": [
      "<class 'pandas.core.frame.DataFrame'>\n",
      "RangeIndex: 12730 entries, 0 to 12729\n",
      "Data columns (total 5 columns):\n",
      " #   Column          Non-Null Count  Dtype \n",
      "---  ------          --------------  ----- \n",
      " 0   Text            12730 non-null  object\n",
      " 1   UserName        12730 non-null  object\n",
      " 2   LinkToTweet     12730 non-null  object\n",
      " 3   TweetEmbedCode  12730 non-null  object\n",
      " 4   CreatedAt       12730 non-null  object\n",
      "dtypes: object(5)\n",
      "memory usage: 497.4+ KB\n"
     ]
    }
   ],
   "source": [
    "df = pd.read_json('/Users/gabrieltaylor/Downloads/user-tweets.jsonl', lines = True)\n",
    "df.info()"
   ]
  },
  {
   "cell_type": "markdown",
   "metadata": {},
   "source": [
    "### Compute Sentiment"
   ]
  },
  {
   "cell_type": "code",
   "execution_count": 21,
   "metadata": {},
   "outputs": [
    {
     "name": "stderr",
     "output_type": "stream",
     "text": [
      "[nltk_data] Downloading package vader_lexicon to\n",
      "[nltk_data]     /Users/gabrieltaylor/nltk_data...\n"
     ]
    }
   ],
   "source": [
    "import nltk\n",
    "nltk.download('vader_lexicon')\n",
    "from nltk.sentiment import SentimentIntensityAnalyzer\n",
    "import re"
   ]
  },
  {
   "cell_type": "code",
   "execution_count": 17,
   "metadata": {},
   "outputs": [],
   "source": [
    "df['Text'] = [re.sub(r\"(?:\\@|https?\\://)\\S+\", \"\", tweet) for tweet in df['Text']]"
   ]
  },
  {
   "cell_type": "code",
   "execution_count": 23,
   "metadata": {},
   "outputs": [
    {
     "data": {
      "text/plain": [
       "' I love the thought of a car drifting apparently endlessly through space and perhaps being discovered by an alien race millions of years in the future'"
      ]
     },
     "execution_count": 23,
     "metadata": {},
     "output_type": "execute_result"
    }
   ],
   "source": [
    "df['Text'][0]"
   ]
  },
  {
   "cell_type": "code",
   "execution_count": 22,
   "metadata": {},
   "outputs": [
    {
     "data": {
      "text/plain": [
       "{'neg': 0.0, 'neu': 0.846, 'pos': 0.154, 'compound': 0.6369}"
      ]
     },
     "execution_count": 22,
     "metadata": {},
     "output_type": "execute_result"
    }
   ],
   "source": [
    "sia = SentimentIntensityAnalyzer()\n",
    "sia.polarity_scores(df['Text'][0])"
   ]
  },
  {
   "cell_type": "code",
   "execution_count": 58,
   "metadata": {},
   "outputs": [],
   "source": [
    "df['Sentiment'] = [sia.polarity_scores(tweet)['compound'] for tweet in df['Text']]"
   ]
  },
  {
   "cell_type": "code",
   "execution_count": 54,
   "metadata": {},
   "outputs": [
    {
     "data": {
      "text/html": [
       "<div>\n",
       "<style scoped>\n",
       "    .dataframe tbody tr th:only-of-type {\n",
       "        vertical-align: middle;\n",
       "    }\n",
       "\n",
       "    .dataframe tbody tr th {\n",
       "        vertical-align: top;\n",
       "    }\n",
       "\n",
       "    .dataframe thead th {\n",
       "        text-align: right;\n",
       "    }\n",
       "</style>\n",
       "<table border=\"1\" class=\"dataframe\">\n",
       "  <thead>\n",
       "    <tr style=\"text-align: right;\">\n",
       "      <th></th>\n",
       "      <th>Text</th>\n",
       "      <th>UserName</th>\n",
       "      <th>LinkToTweet</th>\n",
       "      <th>TweetEmbedCode</th>\n",
       "      <th>CreatedAt</th>\n",
       "      <th>Sentiment</th>\n",
       "    </tr>\n",
       "  </thead>\n",
       "  <tbody>\n",
       "    <tr>\n",
       "      <th>0</th>\n",
       "      <td>@highqualitysh1t I love the thought of a car d...</td>\n",
       "      <td>elonmusk</td>\n",
       "      <td>http://twitter.com/elonmusk/status/93704198630...</td>\n",
       "      <td>&lt;blockquote class=\"twitter-tweet\"&gt;&lt;p lang=\"en\"...</td>\n",
       "      <td>2021-12-04</td>\n",
       "      <td>0.6369</td>\n",
       "    </tr>\n",
       "    <tr>\n",
       "      <th>1</th>\n",
       "      <td>@novaspivack Asimov's Foundation books should ...</td>\n",
       "      <td>elonmusk</td>\n",
       "      <td>http://twitter.com/elonmusk/status/93709071522...</td>\n",
       "      <td>&lt;blockquote class=\"twitter-tweet\"&gt;&lt;p lang=\"en\"...</td>\n",
       "      <td>2021-12-04</td>\n",
       "      <td>0.5859</td>\n",
       "    </tr>\n",
       "    <tr>\n",
       "      <th>2</th>\n",
       "      <td>@novaspivack That's certainly the right way to...</td>\n",
       "      <td>elonmusk</td>\n",
       "      <td>http://twitter.com/elonmusk/status/93710961569...</td>\n",
       "      <td>&lt;blockquote class=\"twitter-tweet\"&gt;&lt;p lang=\"en\"...</td>\n",
       "      <td>2021-12-04</td>\n",
       "      <td>0.3400</td>\n",
       "    </tr>\n",
       "    <tr>\n",
       "      <th>3</th>\n",
       "      <td>To preserve the transcendent majesty &amp;amp; spe...</td>\n",
       "      <td>elonmusk</td>\n",
       "      <td>http://twitter.com/elonmusk/status/93739733099...</td>\n",
       "      <td>&lt;blockquote class=\"twitter-tweet\"&gt;&lt;p lang=\"en\"...</td>\n",
       "      <td>2021-12-04</td>\n",
       "      <td>-0.3182</td>\n",
       "    </tr>\n",
       "    <tr>\n",
       "      <th>4</th>\n",
       "      <td>@harrisonlingren @JW8888888 Busted</td>\n",
       "      <td>elonmusk</td>\n",
       "      <td>http://twitter.com/elonmusk/status/93739781363...</td>\n",
       "      <td>&lt;blockquote class=\"twitter-tweet\"&gt;&lt;p lang=\"en\"...</td>\n",
       "      <td>2021-12-04</td>\n",
       "      <td>0.0000</td>\n",
       "    </tr>\n",
       "  </tbody>\n",
       "</table>\n",
       "</div>"
      ],
      "text/plain": [
       "                                                Text  UserName  \\\n",
       "0  @highqualitysh1t I love the thought of a car d...  elonmusk   \n",
       "1  @novaspivack Asimov's Foundation books should ...  elonmusk   \n",
       "2  @novaspivack That's certainly the right way to...  elonmusk   \n",
       "3  To preserve the transcendent majesty &amp; spe...  elonmusk   \n",
       "4                 @harrisonlingren @JW8888888 Busted  elonmusk   \n",
       "\n",
       "                                         LinkToTweet  \\\n",
       "0  http://twitter.com/elonmusk/status/93704198630...   \n",
       "1  http://twitter.com/elonmusk/status/93709071522...   \n",
       "2  http://twitter.com/elonmusk/status/93710961569...   \n",
       "3  http://twitter.com/elonmusk/status/93739733099...   \n",
       "4  http://twitter.com/elonmusk/status/93739781363...   \n",
       "\n",
       "                                      TweetEmbedCode   CreatedAt  Sentiment  \n",
       "0  <blockquote class=\"twitter-tweet\"><p lang=\"en\"...  2021-12-04     0.6369  \n",
       "1  <blockquote class=\"twitter-tweet\"><p lang=\"en\"...  2021-12-04     0.5859  \n",
       "2  <blockquote class=\"twitter-tweet\"><p lang=\"en\"...  2021-12-04     0.3400  \n",
       "3  <blockquote class=\"twitter-tweet\"><p lang=\"en\"...  2021-12-04    -0.3182  \n",
       "4  <blockquote class=\"twitter-tweet\"><p lang=\"en\"...  2021-12-04     0.0000  "
      ]
     },
     "execution_count": 54,
     "metadata": {},
     "output_type": "execute_result"
    }
   ],
   "source": [
    "df.head()"
   ]
  },
  {
   "cell_type": "markdown",
   "metadata": {},
   "source": [
    "### Change Date"
   ]
  },
  {
   "cell_type": "code",
   "execution_count": 30,
   "metadata": {},
   "outputs": [],
   "source": [
    "from datetime import datetime "
   ]
  },
  {
   "cell_type": "code",
   "execution_count": 41,
   "metadata": {},
   "outputs": [
    {
     "data": {
      "text/plain": [
       "'December 02 2017  07:33PM'"
      ]
     },
     "execution_count": 41,
     "metadata": {},
     "output_type": "execute_result"
    }
   ],
   "source": [
    "df['CreatedAt'][0].replace(\",\", \"\").replace(\"at\", \"\")"
   ]
  },
  {
   "cell_type": "code",
   "execution_count": 60,
   "metadata": {},
   "outputs": [
    {
     "data": {
      "text/plain": [
       "datetime.date(2017, 12, 2)"
      ]
     },
     "execution_count": 60,
     "metadata": {},
     "output_type": "execute_result"
    }
   ],
   "source": [
    "datetime.strptime(df['CreatedAt'][0].replace(\",\", \"\").replace(\"at\", \"\"), '%B %d %Y %I:%M%p').date()"
   ]
  },
  {
   "cell_type": "code",
   "execution_count": 61,
   "metadata": {},
   "outputs": [],
   "source": [
    "df['CreatedAt'] = [datetime.strptime(date.replace(\",\", \"\").replace(\"at\", \"\"), '%B %d %Y %I:%M%p').date() for date in df['CreatedAt']]"
   ]
  },
  {
   "cell_type": "code",
   "execution_count": 62,
   "metadata": {},
   "outputs": [
    {
     "name": "stdout",
     "output_type": "stream",
     "text": [
      "<class 'pandas.core.frame.DataFrame'>\n",
      "RangeIndex: 12730 entries, 0 to 12729\n",
      "Data columns (total 6 columns):\n",
      " #   Column          Non-Null Count  Dtype  \n",
      "---  ------          --------------  -----  \n",
      " 0   Text            12730 non-null  object \n",
      " 1   UserName        12730 non-null  object \n",
      " 2   LinkToTweet     12730 non-null  object \n",
      " 3   TweetEmbedCode  12730 non-null  object \n",
      " 4   CreatedAt       12730 non-null  object \n",
      " 5   Sentiment       12730 non-null  float64\n",
      "dtypes: float64(1), object(5)\n",
      "memory usage: 596.8+ KB\n"
     ]
    }
   ],
   "source": [
    "df.info()"
   ]
  },
  {
   "cell_type": "markdown",
   "metadata": {},
   "source": [
    "### Aggregate Sentiment By Date"
   ]
  },
  {
   "cell_type": "code",
   "execution_count": 90,
   "metadata": {},
   "outputs": [],
   "source": [
    "df_by_day = df.groupby('CreatedAt').agg({'Sentiment' : 'mean'}).reset_index().rename({'CreatedAt' : 'Date'}, axis = 1)"
   ]
  },
  {
   "cell_type": "code",
   "execution_count": 92,
   "metadata": {},
   "outputs": [
    {
     "data": {
      "text/plain": [
       "datetime.date(2017, 12, 2)"
      ]
     },
     "execution_count": 92,
     "metadata": {},
     "output_type": "execute_result"
    }
   ],
   "source": [
    "df_by_day['Date'][0]"
   ]
  },
  {
   "cell_type": "markdown",
   "metadata": {},
   "source": [
    "### Stock Prices"
   ]
  },
  {
   "cell_type": "code",
   "execution_count": 78,
   "metadata": {},
   "outputs": [
    {
     "name": "stdout",
     "output_type": "stream",
     "text": [
      "<class 'pandas.core.frame.DataFrame'>\n",
      "RangeIndex: 1008 entries, 0 to 1007\n",
      "Data columns (total 7 columns):\n",
      " #   Column     Non-Null Count  Dtype  \n",
      "---  ------     --------------  -----  \n",
      " 0   Date       1008 non-null   object \n",
      " 1   Open       1008 non-null   float64\n",
      " 2   High       1008 non-null   float64\n",
      " 3   Low        1008 non-null   float64\n",
      " 4   Close      1008 non-null   float64\n",
      " 5   Adj Close  1008 non-null   float64\n",
      " 6   Volume     1008 non-null   int64  \n",
      "dtypes: float64(5), int64(1), object(1)\n",
      "memory usage: 55.2+ KB\n"
     ]
    }
   ],
   "source": [
    "prices = pd.read_csv(\"/Users/gabrieltaylor/Downloads/TSLA.csv\")\n",
    "prices.info()"
   ]
  },
  {
   "cell_type": "code",
   "execution_count": 93,
   "metadata": {},
   "outputs": [
    {
     "data": {
      "text/plain": [
       "'2017-12-04'"
      ]
     },
     "execution_count": 93,
     "metadata": {},
     "output_type": "execute_result"
    }
   ],
   "source": [
    "prices['Date'][0]"
   ]
  },
  {
   "cell_type": "code",
   "execution_count": 94,
   "metadata": {},
   "outputs": [
    {
     "data": {
      "text/plain": [
       "datetime.date(2017, 12, 4)"
      ]
     },
     "execution_count": 94,
     "metadata": {},
     "output_type": "execute_result"
    }
   ],
   "source": [
    "datetime.strptime(prices['Date'][0], '%Y-%m-%d').date()"
   ]
  },
  {
   "cell_type": "code",
   "execution_count": 95,
   "metadata": {},
   "outputs": [],
   "source": [
    "prices['Date'] = [datetime.strptime(date, '%Y-%m-%d').date() for date in prices['Date']]"
   ]
  },
  {
   "cell_type": "code",
   "execution_count": 114,
   "metadata": {},
   "outputs": [],
   "source": [
    "final_df = pd.merge(prices, df_by_day, how = 'inner', on = 'Date')"
   ]
  },
  {
   "cell_type": "code",
   "execution_count": 115,
   "metadata": {},
   "outputs": [
    {
     "data": {
      "text/html": [
       "<div>\n",
       "<style scoped>\n",
       "    .dataframe tbody tr th:only-of-type {\n",
       "        vertical-align: middle;\n",
       "    }\n",
       "\n",
       "    .dataframe tbody tr th {\n",
       "        vertical-align: top;\n",
       "    }\n",
       "\n",
       "    .dataframe thead th {\n",
       "        text-align: right;\n",
       "    }\n",
       "</style>\n",
       "<table border=\"1\" class=\"dataframe\">\n",
       "  <thead>\n",
       "    <tr style=\"text-align: right;\">\n",
       "      <th></th>\n",
       "      <th>Open</th>\n",
       "      <th>High</th>\n",
       "      <th>Low</th>\n",
       "      <th>Close</th>\n",
       "      <th>Adj Close</th>\n",
       "      <th>Volume</th>\n",
       "      <th>Sentiment</th>\n",
       "    </tr>\n",
       "  </thead>\n",
       "  <tbody>\n",
       "    <tr>\n",
       "      <th>Open</th>\n",
       "      <td>1.000000</td>\n",
       "      <td>0.999622</td>\n",
       "      <td>0.999469</td>\n",
       "      <td>0.999032</td>\n",
       "      <td>0.999032</td>\n",
       "      <td>-0.258575</td>\n",
       "      <td>-0.047899</td>\n",
       "    </tr>\n",
       "    <tr>\n",
       "      <th>High</th>\n",
       "      <td>0.999622</td>\n",
       "      <td>1.000000</td>\n",
       "      <td>0.999375</td>\n",
       "      <td>0.999557</td>\n",
       "      <td>0.999557</td>\n",
       "      <td>-0.251106</td>\n",
       "      <td>-0.049410</td>\n",
       "    </tr>\n",
       "    <tr>\n",
       "      <th>Low</th>\n",
       "      <td>0.999469</td>\n",
       "      <td>0.999375</td>\n",
       "      <td>1.000000</td>\n",
       "      <td>0.999565</td>\n",
       "      <td>0.999565</td>\n",
       "      <td>-0.265529</td>\n",
       "      <td>-0.048124</td>\n",
       "    </tr>\n",
       "    <tr>\n",
       "      <th>Close</th>\n",
       "      <td>0.999032</td>\n",
       "      <td>0.999557</td>\n",
       "      <td>0.999565</td>\n",
       "      <td>1.000000</td>\n",
       "      <td>1.000000</td>\n",
       "      <td>-0.257407</td>\n",
       "      <td>-0.050089</td>\n",
       "    </tr>\n",
       "    <tr>\n",
       "      <th>Adj Close</th>\n",
       "      <td>0.999032</td>\n",
       "      <td>0.999557</td>\n",
       "      <td>0.999565</td>\n",
       "      <td>1.000000</td>\n",
       "      <td>1.000000</td>\n",
       "      <td>-0.257407</td>\n",
       "      <td>-0.050089</td>\n",
       "    </tr>\n",
       "    <tr>\n",
       "      <th>Volume</th>\n",
       "      <td>-0.258575</td>\n",
       "      <td>-0.251106</td>\n",
       "      <td>-0.265529</td>\n",
       "      <td>-0.257407</td>\n",
       "      <td>-0.257407</td>\n",
       "      <td>1.000000</td>\n",
       "      <td>0.017730</td>\n",
       "    </tr>\n",
       "    <tr>\n",
       "      <th>Sentiment</th>\n",
       "      <td>-0.047899</td>\n",
       "      <td>-0.049410</td>\n",
       "      <td>-0.048124</td>\n",
       "      <td>-0.050089</td>\n",
       "      <td>-0.050089</td>\n",
       "      <td>0.017730</td>\n",
       "      <td>1.000000</td>\n",
       "    </tr>\n",
       "  </tbody>\n",
       "</table>\n",
       "</div>"
      ],
      "text/plain": [
       "               Open      High       Low     Close  Adj Close    Volume  \\\n",
       "Open       1.000000  0.999622  0.999469  0.999032   0.999032 -0.258575   \n",
       "High       0.999622  1.000000  0.999375  0.999557   0.999557 -0.251106   \n",
       "Low        0.999469  0.999375  1.000000  0.999565   0.999565 -0.265529   \n",
       "Close      0.999032  0.999557  0.999565  1.000000   1.000000 -0.257407   \n",
       "Adj Close  0.999032  0.999557  0.999565  1.000000   1.000000 -0.257407   \n",
       "Volume    -0.258575 -0.251106 -0.265529 -0.257407  -0.257407  1.000000   \n",
       "Sentiment -0.047899 -0.049410 -0.048124 -0.050089  -0.050089  0.017730   \n",
       "\n",
       "           Sentiment  \n",
       "Open       -0.047899  \n",
       "High       -0.049410  \n",
       "Low        -0.048124  \n",
       "Close      -0.050089  \n",
       "Adj Close  -0.050089  \n",
       "Volume      0.017730  \n",
       "Sentiment   1.000000  "
      ]
     },
     "execution_count": 115,
     "metadata": {},
     "output_type": "execute_result"
    }
   ],
   "source": [
    "final_df.corr()"
   ]
  }
 ],
 "metadata": {
  "kernelspec": {
   "display_name": "Python 3",
   "language": "python",
   "name": "python3"
  },
  "language_info": {
   "codemirror_mode": {
    "name": "ipython",
    "version": 3
   },
   "file_extension": ".py",
   "mimetype": "text/x-python",
   "name": "python",
   "nbconvert_exporter": "python",
   "pygments_lexer": "ipython3",
   "version": "3.7.6"
  }
 },
 "nbformat": 4,
 "nbformat_minor": 4
}
